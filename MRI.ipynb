{
 "cells": [
  {
   "cell_type": "code",
   "execution_count": null,
   "metadata": {
    "id": "vtUksg67TYuV"
   },
   "outputs": [],
   "source": [
    "import numpy as np\n",
    "import nibabel as nib\n",
    "import matplotlib.pyplot as plt\n",
    "%matplotlib inline\n",
    "from PIL import Image\n",
    "from mpl_toolkits.mplot3d.art3d import Poly3DCollection\n",
    "# from itkwidgets import view"
   ]
  },
  {
   "cell_type": "code",
   "execution_count": null,
   "metadata": {
    "id": "3VJEi3wQTYqQ"
   },
   "outputs": [],
   "source": [
    "# Load NIFTI image\n",
    "test = nib.load('/content/drive/MyDrive/Data/N025/N025_ROI.nii.gz').get_fdata()\n",
    "# 3D array\n",
    "data = np.asarray(test)\n",
    "# 4D array\n",
    "# data = np.expand_dims(image, axis=0)\n",
    "\n",
    "print(data.shape)\n",
    "print(data)"
   ]
  },
  {
   "cell_type": "code",
   "execution_count": null,
   "metadata": {
    "id": "_Uh0_zIiTViz"
   },
   "outputs": [],
   "source": [
    "def create_3d_image(array_3d):\n",
    "    # Normalize the array to 0-255\n",
    "    array_3d = ((array_3d - array_3d.min()) * (1/(array_3d.max() - array_3d.min()) * 255)).astype('uint8')\n",
    "\n",
    "    # Convert numpy array to PIL Image in each z slice\n",
    "    images = [Image.fromarray(array_3d[z]) for z in range(array_3d.shape[0])]\n",
    "\n",
    "    # Save the image sequence as a gif\n",
    "    images[0].save('3d_image.gif', save_all=True, append_images=images[1:], loop=0, duration=100)\n",
    "\n",
    "create_3d_image(array_3d)"
   ]
  },
  {
   "cell_type": "code",
   "execution_count": null,
   "metadata": {
    "id": "jIxpeXiMTiBB"
   },
   "outputs": [],
   "source": [
    "# Choose a slice along one of the axes (e.g., axial plane)\n",
    "slice_index = data.shape[1] // 2  # Middle slice\n",
    "\n",
    "# Plot the chosen slice\n",
    "plt.imshow(data[:, :, slice_index], cmap='gray')\n",
    "plt.title(f\"Axial Slice {slice_index}\")\n",
    "plt.show()"
   ]
  },
  {
   "cell_type": "code",
   "execution_count": null,
   "metadata": {
    "id": "qWgy9alvThaQ"
   },
   "outputs": [],
   "source": []
  },
  {
   "cell_type": "markdown",
   "metadata": {
    "id": "tm51rRaaAz1y"
   },
   "source": [
    "**Image Segmentation**"
   ]
  },
  {
   "cell_type": "code",
   "execution_count": 5,
   "metadata": {
    "id": "ZIpqSnXtdmWF"
   },
   "outputs": [],
   "source": [
    "# Import all libraries\n",
    "import os\n",
    "import numpy as np\n",
    "import nibabel as nib\n",
    "import cv2\n",
    "import matplotlib.pyplot as plt\n",
    "\n",
    "from sklearn.model_selection import train_test_split\n",
    "\n",
    "import tensorflow as tf\n",
    "from tensorflow import keras\n",
    "from keras.preprocessing.image import ImageDataGenerator\n",
    "from tensorflow import keras\n",
    "import keras.backend as K\n",
    "# from niwidgets import NiftiWidget\n",
    "\n",
    "# Define the dataset path\n",
    "folder_path = 'Data'\n",
    "files = os.listdir(folder_path)"
   ]
  },
  {
   "cell_type": "code",
   "execution_count": 6,
   "metadata": {
    "id": "UMz80sVBKOIr"
   },
   "outputs": [
    {
     "name": "stdout",
     "output_type": "stream",
     "text": [
      "19\n",
      "3\n"
     ]
    }
   ],
   "source": [
    "# List all files in the folder\n",
    "file_names = os.listdir(folder_path)\n",
    "\n",
    "# Split data into training and testing sets\n",
    "train_files, test_files = train_test_split(file_names, test_size=0.1, random_state=42)\n",
    "\n",
    "print(len(train_files))\n",
    "print(len(test_files))"
   ]
  },
  {
   "cell_type": "markdown",
   "metadata": {
    "id": "mEKSDC1sSRja"
   },
   "source": [
    "**Pre-processing of 3D images**"
   ]
  },
  {
   "cell_type": "code",
   "execution_count": 7,
   "metadata": {
    "id": "SIpG89oEdCH2"
   },
   "outputs": [],
   "source": [
    "# Min-max scaling\n",
    "def normalizeImageIntensityRange(img):\n",
    "  min_val = np.min(img)\n",
    "  max_val = np.max(img)\n",
    "  normalized_data = (img - min_val) / (max_val - min_val)\n",
    "  return normalized_data"
   ]
  },
  {
   "cell_type": "code",
   "execution_count": 8,
   "metadata": {
    "id": "ji9xSQRtV2kM"
   },
   "outputs": [],
   "source": [
    "# Read image or mask volume\n",
    "def readImageVolume(imgPath, normalize=False):\n",
    "    img = nib.load(imgPath).get_fdata()\n",
    "    return normalizeImageIntensityRange(img)"
   ]
  },
  {
   "cell_type": "code",
   "execution_count": 9,
   "metadata": {
    "id": "3LiyYYoNJfQ-"
   },
   "outputs": [],
   "source": [
    "# Save volume slice to file\n",
    "def saveSlice(img, fname, path):\n",
    "    img = np.uint8(img * 255)\n",
    "    fout = os.path.join(path, f'{fname}.png')\n",
    "    cv2.imwrite(fout, img)\n",
    "    print(f'[+] Slice saved: {fout}', end='\\r')"
   ]
  },
  {
   "cell_type": "code",
   "execution_count": 16,
   "metadata": {
    "id": "UeWgv7h6k9Qn"
   },
   "outputs": [],
   "source": [
    "SLICE_X = True\n",
    "SLICE_Y = True\n",
    "SLICE_Z = False\n",
    "\n",
    "SLICE_DECIMATE_IDENTIFIER = 3\n",
    "\n",
    "# Slice image in all directions and save\n",
    "def sliceAndSaveVolumeImage(vol, fname, path):\n",
    "    (dimx, dimy, dimz) = vol.shape\n",
    "    print(dimx, dimy, dimz)\n",
    "    cnt = 0\n",
    "    if SLICE_X:\n",
    "        cnt += dimx\n",
    "        print('Slicing X: ')\n",
    "        for i in range(dimx):\n",
    "            saveSlice(vol[i,:,:], fname+f'-slice{str(i).zfill(SLICE_DECIMATE_IDENTIFIER)}_x', path)\n",
    "\n",
    "    if SLICE_Y:\n",
    "        cnt += dimy\n",
    "        print('Slicing Y: ')\n",
    "        for i in range(dimy):\n",
    "            saveSlice(vol[:,i,:], fname+f'-slice{str(i).zfill(SLICE_DECIMATE_IDENTIFIER)}_y', path)\n",
    "\n",
    "    if SLICE_Z:\n",
    "        cnt += dimz\n",
    "        print('Slicing Z: ')\n",
    "        for i in range(dimz):\n",
    "            saveSlice(vol[:,:,i], fname+f'-slice{str(i).zfill(SLICE_DECIMATE_IDENTIFIER)}_z', path)\n",
    "    return cnt"
   ]
  },
  {
   "cell_type": "code",
   "execution_count": 17,
   "metadata": {
    "id": "BCZtUblQV-F-"
   },
   "outputs": [],
   "source": [
    "# Read and process image volumes\n",
    "def imageVolumes(files):\n",
    "  for folder in files:\n",
    "    path = os.path.join(folder_path, folder)\n",
    "    for file in sorted(os.listdir(path)):\n",
    "      if \"ROI\" not in file:\n",
    "        img = readImageVolume(os.path.join(path, file), False)\n",
    "        print(file, img.shape, np.sum(img.shape), np.min(img), np.max(img))\n",
    "        numOfSlices = sliceAndSaveVolumeImage(img, os.path.basename(path), imageOutput)\n",
    "        print(f'\\n{file}, {numOfSlices} slices created \\n')"
   ]
  },
  {
   "cell_type": "code",
   "execution_count": 18,
   "metadata": {
    "id": "0TG86QSYtTOe"
   },
   "outputs": [],
   "source": [
    "# Read and process image mask volumes\n",
    "def imagemaskVolumes(files):\n",
    "  for folder in files:\n",
    "    path = os.path.join(folder_path, folder)\n",
    "    for file in sorted(os.listdir(path)):\n",
    "      if \"ROI\" in file:\n",
    "        img = readImageVolume(os.path.join(path, file), False)\n",
    "        print(file, img.shape, np.sum(img.shape), np.min(img), np.max(img))\n",
    "        numOfSlices = sliceAndSaveVolumeImage(img, os.path.basename(path), imagemaskOutput)\n",
    "        print(f'\\n{file}, {numOfSlices} slices created \\n')"
   ]
  },
  {
   "cell_type": "code",
   "execution_count": 20,
   "metadata": {
    "id": "XGqBd4bQtvFZ"
   },
   "outputs": [
    {
     "name": "stdout",
     "output_type": "stream",
     "text": [
      "Anon10.nii.gz (512, 512, 665) 1689 0.0 1.0\n",
      "512 512 665\n",
      "Slicing X: \n",
      "Slicing Y: aved: train/img/img\\Anon10-slice511_x.png\n",
      "[+] Slice saved: train/img/img\\Anon10-slice511_y.png\n",
      "Anon10.nii.gz, 1024 slices created \n",
      "\n",
      "P003.nii.gz (512, 512, 283) 1307 0.0 1.0\n",
      "512 512 283\n",
      "Slicing X: \n",
      "Slicing Y: aved: train/img/img\\P003-slice511_x.png\n",
      "[+] Slice saved: train/img/img\\P003-slice511_y.png\n",
      "P003.nii.gz, 1024 slices created \n",
      "\n",
      "Anon5.nii.gz (512, 512, 676) 1700 0.0 1.0\n",
      "512 512 676\n",
      "Slicing X: \n",
      "Slicing Y: aved: train/img/img\\Anon5-slice511_x.png\n",
      "[+] Slice saved: train/img/img\\Anon5-slice511_y.png\n",
      "Anon5.nii.gz, 1024 slices created \n",
      "\n",
      "P152.nii.gz (512, 512, 833) 1857 0.0 1.0\n",
      "512 512 833\n",
      "Slicing X: \n",
      "Slicing Y: aved: train/img/img\\P152-slice511_x.png\n",
      "[+] Slice saved: train/img/img\\P152-slice511_y.png\n",
      "P152.nii.gz, 1024 slices created \n",
      "\n",
      "N024.nii.gz (512, 512, 693) 1717 0.0 1.0\n",
      "512 512 693\n",
      "Slicing X: \n",
      "Slicing Y: aved: train/img/img\\N024-slice511_x.png\n",
      "[+] Slice saved: train/img/img\\N024-slice511_y.png\n",
      "N024.nii.gz, 1024 slices created \n",
      "\n",
      "Anon3.nii.gz (512, 512, 119) 1143 0.0 1.0\n",
      "512 512 119\n",
      "Slicing X: \n",
      "Slicing Y: aved: train/img/img\\Anon3-slice511_x.png\n",
      "[+] Slice saved: train/img/img\\Anon3-slice511_y.png\n",
      "Anon3.nii.gz, 1024 slices created \n",
      "\n",
      "Anon4.nii.gz (512, 512, 741) 1765 0.0 1.0\n",
      "512 512 741\n",
      "Slicing X: \n",
      "Slicing Y: aved: train/img/img\\Anon4-slice511_x.png\n",
      "[+] Slice saved: train/img/img\\Anon4-slice511_y.png\n",
      "Anon4.nii.gz, 1024 slices created \n",
      "\n",
      "P012.nii.gz (512, 512, 421) 1445 0.0 1.0\n",
      "512 512 421\n",
      "Slicing X: \n",
      "Slicing Y: aved: train/img/img\\P012-slice511_x.png\n",
      "[+] Slice saved: train/img/img\\P012-slice511_y.png\n",
      "P012.nii.gz, 1024 slices created \n",
      "\n",
      "N028.nii.gz (512, 512, 605) 1629 0.0 1.0\n",
      "512 512 605\n",
      "Slicing X: \n",
      "Slicing Y: aved: train/img/img\\N028-slice511_x.png\n",
      "[+] Slice saved: train/img/img\\N028-slice511_y.png\n",
      "N028.nii.gz, 1024 slices created \n",
      "\n",
      "P017.nii.gz (512, 512, 421) 1445 0.0 1.0\n",
      "512 512 421\n",
      "Slicing X: \n",
      "Slicing Y: aved: train/img/img\\P017-slice511_x.png\n",
      "[+] Slice saved: train/img/img\\P017-slice511_y.png\n",
      "P017.nii.gz, 1024 slices created \n",
      "\n",
      "P005.nii.gz (512, 512, 667) 1691 0.0 1.0\n",
      "512 512 667\n",
      "Slicing X: \n",
      "Slicing Y: aved: train/img/img\\P005-slice511_x.png\n",
      "[+] Slice saved: train/img/img\\P005-slice511_y.png\n",
      "P005.nii.gz, 1024 slices created \n",
      "\n",
      "Anon2.nii.gz (512, 512, 660) 1684 0.0 1.0\n",
      "512 512 660\n",
      "Slicing X: \n",
      "Slicing Y: aved: train/img/img\\Anon2-slice511_x.png\n",
      "[+] Slice saved: train/img/img\\Anon2-slice511_y.png\n",
      "Anon2.nii.gz, 1024 slices created \n",
      "\n",
      "N003.nii.gz (512, 512, 682) 1706 0.0 1.0\n",
      "512 512 682\n",
      "Slicing X: \n",
      "Slicing Y: aved: train/img/img\\N003-slice511_x.png\n",
      "[+] Slice saved: train/img/img\\N003-slice511_y.png\n",
      "N003.nii.gz, 1024 slices created \n",
      "\n",
      "N001.nii.gz (512, 512, 633) 1657 0.0 1.0\n",
      "512 512 633\n",
      "Slicing X: \n",
      "Slicing Y: aved: train/img/img\\N001-slice511_x.png\n",
      "[+] Slice saved: train/img/img\\N001-slice511_y.png\n",
      "N001.nii.gz, 1024 slices created \n",
      "\n",
      "N004.nii.gz (512, 512, 123) 1147 0.0 1.0\n",
      "512 512 123\n",
      "Slicing X: \n",
      "Slicing Y: aved: train/img/img\\N004-slice511_x.png\n",
      "[+] Slice saved: train/img/img\\N004-slice511_y.png\n",
      "N004.nii.gz, 1024 slices created \n",
      "\n",
      "N035.nii.gz (512, 512, 624) 1648 0.0 1.0\n",
      "512 512 624\n",
      "Slicing X: \n",
      "Slicing Y: aved: train/img/img\\N035-slice511_x.png\n",
      "[+] Slice saved: train/img/img\\N035-slice511_y.png\n",
      "N035.nii.gz, 1024 slices created \n",
      "\n",
      "P019.nii.gz (512, 512, 544) 1568 0.0 1.0\n",
      "512 512 544\n",
      "Slicing X: \n",
      "Slicing Y: aved: train/img/img\\P019-slice511_x.png\n",
      "[+] Slice saved: train/img/img\\P019-slice511_y.png\n",
      "P019.nii.gz, 1024 slices created \n",
      "\n",
      "Anon6.nii.gz (512, 512, 683) 1707 0.0 1.0\n",
      "512 512 683\n",
      "Slicing X: \n",
      "Slicing Y: aved: train/img/img\\Anon6-slice511_x.png\n",
      "[+] Slice saved: train/img/img\\Anon6-slice511_y.png\n",
      "Anon6.nii.gz, 1024 slices created \n",
      "\n",
      "Anon10_ROI.nii.gz (512, 512, 665) 1689 0.0 1.0\n",
      "512 512 665\n",
      "Slicing X: \n",
      "Slicing Y: aved: train/mask/img\\Anon10-slice511_x.png\n",
      "[+] Slice saved: train/mask/img\\Anon10-slice511_y.png\n",
      "Anon10_ROI.nii.gz, 1024 slices created \n",
      "\n",
      "P003_ROI.nii.gz (512, 512, 283) 1307 0.0 1.0\n",
      "512 512 283\n",
      "Slicing X: \n",
      "Slicing Y: aved: train/mask/img\\P003-slice511_x.png\n",
      "[+] Slice saved: train/mask/img\\P003-slice511_y.png\n",
      "P003_ROI.nii.gz, 1024 slices created \n",
      "\n",
      "Anon5_ROI.nii.gz (512, 512, 676) 1700 0.0 1.0\n",
      "512 512 676\n",
      "Slicing X: \n",
      "Slicing Y: aved: train/mask/img\\Anon5-slice511_x.png\n",
      "[+] Slice saved: train/mask/img\\Anon5-slice511_y.png\n",
      "Anon5_ROI.nii.gz, 1024 slices created \n",
      "\n",
      "P152_ROI.nii.gz (512, 512, 833) 1857 0.0 1.0\n",
      "512 512 833\n",
      "Slicing X: \n",
      "Slicing Y: aved: train/mask/img\\P152-slice511_x.png\n",
      "[+] Slice saved: train/mask/img\\P152-slice511_y.png\n",
      "P152_ROI.nii.gz, 1024 slices created \n",
      "\n",
      "N024_ROI.nii.gz (512, 512, 693) 1717 0.0 1.0\n",
      "512 512 693\n",
      "Slicing X: \n",
      "Slicing Y: aved: train/mask/img\\N024-slice511_x.png\n",
      "[+] Slice saved: train/mask/img\\N024-slice511_y.png\n",
      "N024_ROI.nii.gz, 1024 slices created \n",
      "\n",
      "Anon3_ROI.nii.gz (512, 512, 119) 1143 0.0 1.0\n",
      "512 512 119\n",
      "Slicing X: \n",
      "Slicing Y: aved: train/mask/img\\Anon3-slice511_x.png\n",
      "[+] Slice saved: train/mask/img\\Anon3-slice511_y.png\n",
      "Anon3_ROI.nii.gz, 1024 slices created \n",
      "\n",
      "Anon4_ROI.nii.gz (512, 512, 741) 1765 0.0 1.0\n",
      "512 512 741\n",
      "Slicing X: \n",
      "Slicing Y: aved: train/mask/img\\Anon4-slice511_x.png\n",
      "[+] Slice saved: train/mask/img\\Anon4-slice511_y.png\n",
      "Anon4_ROI.nii.gz, 1024 slices created \n",
      "\n",
      "P012_ROI.nii.gz (512, 512, 421) 1445 0.0 1.0\n",
      "512 512 421\n",
      "Slicing X: \n",
      "Slicing Y: aved: train/mask/img\\P012-slice511_x.png\n",
      "[+] Slice saved: train/mask/img\\P012-slice511_y.png\n",
      "P012_ROI.nii.gz, 1024 slices created \n",
      "\n",
      "N028_ROI.nii.gz (512, 512, 605) 1629 0.0 1.0\n",
      "512 512 605\n",
      "Slicing X: \n",
      "Slicing Y: aved: train/mask/img\\N028-slice511_x.png\n",
      "[+] Slice saved: train/mask/img\\N028-slice511_y.png\n",
      "N028_ROI.nii.gz, 1024 slices created \n",
      "\n",
      "P017_ROI.nii.gz (512, 512, 421) 1445 0.0 1.0\n",
      "512 512 421\n",
      "Slicing X: \n",
      "Slicing Y: aved: train/mask/img\\P017-slice511_x.png\n",
      "[+] Slice saved: train/mask/img\\P017-slice511_y.png\n",
      "P017_ROI.nii.gz, 1024 slices created \n",
      "\n",
      "P005_ROI.nii.gz (512, 512, 667) 1691 0.0 1.0\n",
      "512 512 667\n",
      "Slicing X: \n",
      "Slicing Y: aved: train/mask/img\\P005-slice511_x.png\n",
      "[+] Slice saved: train/mask/img\\P005-slice511_y.png\n",
      "P005_ROI.nii.gz, 1024 slices created \n",
      "\n",
      "Anon2_ROI.nii.gz (512, 512, 660) 1684 0.0 1.0\n",
      "512 512 660\n",
      "Slicing X: \n",
      "Slicing Y: aved: train/mask/img\\Anon2-slice511_x.png\n",
      "[+] Slice saved: train/mask/img\\Anon2-slice511_y.png\n",
      "Anon2_ROI.nii.gz, 1024 slices created \n",
      "\n",
      "N003_ROI.nii.gz (512, 512, 682) 1706 0.0 1.0\n",
      "512 512 682\n",
      "Slicing X: \n",
      "Slicing Y: aved: train/mask/img\\N003-slice511_x.png\n",
      "[+] Slice saved: train/mask/img\\N003-slice511_y.png\n",
      "N003_ROI.nii.gz, 1024 slices created \n",
      "\n",
      "N001_ROI.nii.gz (512, 512, 633) 1657 0.0 1.0\n",
      "512 512 633\n",
      "Slicing X: \n",
      "Slicing Y: aved: train/mask/img\\N001-slice511_x.png\n",
      "[+] Slice saved: train/mask/img\\N001-slice511_y.png\n",
      "N001_ROI.nii.gz, 1024 slices created \n",
      "\n",
      "N004_ROI.nii.gz (512, 512, 123) 1147 0.0 1.0\n",
      "512 512 123\n",
      "Slicing X: \n",
      "Slicing Y: aved: train/mask/img\\N004-slice511_x.png\n",
      "[+] Slice saved: train/mask/img\\N004-slice511_y.png\n",
      "N004_ROI.nii.gz, 1024 slices created \n",
      "\n",
      "N035_ROI.nii.gz (512, 512, 624) 1648 0.0 1.0\n",
      "512 512 624\n",
      "Slicing X: \n",
      "Slicing Y: aved: train/mask/img\\N035-slice511_x.png\n",
      "[+] Slice saved: train/mask/img\\N035-slice511_y.png\n",
      "N035_ROI.nii.gz, 1024 slices created \n",
      "\n",
      "P019_ROI.nii.gz (512, 512, 544) 1568 0.0 1.0\n",
      "512 512 544\n",
      "Slicing X: \n",
      "Slicing Y: aved: train/mask/img\\P019-slice511_x.png\n",
      "[+] Slice saved: train/mask/img\\P019-slice511_y.png\n",
      "P019_ROI.nii.gz, 1024 slices created \n",
      "\n",
      "Anon6_ROI.nii.gz (512, 512, 683) 1707 0.0 1.0\n",
      "512 512 683\n",
      "Slicing X: \n",
      "Slicing Y: aved: train/mask/img\\Anon6-slice511_x.png\n",
      "[+] Slice saved: train/mask/img\\Anon6-slice511_y.png\n",
      "Anon6_ROI.nii.gz, 1024 slices created \n",
      "\n"
     ]
    }
   ],
   "source": [
    "# Create a file for saving the image and mask for train\n",
    "imageOutput = 'train/img/img'\n",
    "os.makedirs(imageOutput, exist_ok=True)\n",
    "imagemaskOutput = 'train/mask/img'\n",
    "os.makedirs(imagemaskOutput, exist_ok=True)\n",
    "\n",
    "# Process image and  mask for trianing files\n",
    "imageVolumes(train_files)\n",
    "imagemaskVolumes(train_files)"
   ]
  },
  {
   "cell_type": "code",
   "execution_count": 21,
   "metadata": {
    "id": "Ph7xvH5CKAsB"
   },
   "outputs": [
    {
     "name": "stdout",
     "output_type": "stream",
     "text": [
      "Anon1.nii.gz (512, 512, 662) 1686 0.0 1.0\n",
      "512 512 662\n",
      "Slicing X: \n",
      "Slicing Y: aved: test/img/img\\Anon1-slice511_x.png\n",
      "[+] Slice saved: test/img/img\\Anon1-slice511_y.png\n",
      "Anon1.nii.gz, 1024 slices created \n",
      "\n",
      "N029.nii.gz (512, 512, 659) 1683 0.0 1.0\n",
      "512 512 659\n",
      "Slicing X: \n",
      "Slicing Y: aved: test/img/img\\N029-slice511_x.png\n",
      "[+] Slice saved: test/img/img\\N029-slice511_y.png\n",
      "N029.nii.gz, 1024 slices created \n",
      "\n",
      "N002.nii.gz (512, 512, 615) 1639 0.0 1.0\n",
      "512 512 615\n",
      "Slicing X: \n",
      "Slicing Y: aved: test/img/img\\N002-slice511_x.png\n",
      "[+] Slice saved: test/img/img\\N002-slice511_y.png\n",
      "N002.nii.gz, 1024 slices created \n",
      "\n",
      "Anon1_ROI.nii.gz (512, 512, 662) 1686 0.0 1.0\n",
      "512 512 662\n",
      "Slicing X: \n",
      "Slicing Y: aved: test/mask/img\\Anon1-slice511_x.png\n",
      "[+] Slice saved: test/mask/img\\Anon1-slice511_y.png\n",
      "Anon1_ROI.nii.gz, 1024 slices created \n",
      "\n",
      "N029_ROI.nii.gz (512, 512, 659) 1683 0.0 1.0\n",
      "512 512 659\n",
      "Slicing X: \n",
      "Slicing Y: aved: test/mask/img\\N029-slice511_x.png\n",
      "[+] Slice saved: test/mask/img\\N029-slice511_y.png\n",
      "N029_ROI.nii.gz, 1024 slices created \n",
      "\n",
      "N002_ROI.nii.gz (512, 512, 615) 1639 0.0 1.0\n",
      "512 512 615\n",
      "Slicing X: \n",
      "Slicing Y: aved: test/mask/img\\N002-slice511_x.png\n",
      "[+] Slice saved: test/mask/img\\N002-slice511_y.png\n",
      "N002_ROI.nii.gz, 1024 slices created \n",
      "\n"
     ]
    }
   ],
   "source": [
    "# Create a file for saving the image and mask for validation\n",
    "imageOutput = 'test/img/img'\n",
    "os.makedirs(imageOutput, exist_ok=True)\n",
    "imagemaskOutput = 'test/mask/img'\n",
    "os.makedirs(imagemaskOutput, exist_ok=True)\n",
    "\n",
    "# Process image and  mask for testing files\n",
    "imageVolumes(test_files)\n",
    "imagemaskVolumes(test_files)"
   ]
  },
  {
   "cell_type": "code",
   "execution_count": 26,
   "metadata": {
    "id": "dY6C3kG4NMHa"
   },
   "outputs": [],
   "source": [
    " # Define constants\n",
    "SEED = 909\n",
    "BATCH_SIZE_TRAIN = 16\n",
    "BATCH_SIZE_TEST = 16\n",
    "\n",
    "IMAGE_HEIGHT = 256\n",
    "IMAGE_WIDTH = 256\n",
    "IMG_SIZE = (IMAGE_HEIGHT, IMAGE_WIDTH)\n",
    "\n",
    "data_dir_train_image = 'train/img/img'\n",
    "data_dir_train_mask = 'train/mask/img'\n",
    "data_dir_test_image = 'test/img/img'\n",
    "data_dir_test_mask = 'test/mask/img'\n",
    "\n",
    "NUM_TRAIN = 16384\n",
    "NUM_TEST = 5120\n",
    "\n",
    "NUM_OF_EPOCHS = 30"
   ]
  },
  {
   "cell_type": "code",
   "execution_count": 27,
   "metadata": {
    "id": "CIrUzjsFQpHn"
   },
   "outputs": [],
   "source": [
    "# Data agumentation for training images and mask\n",
    "def create_segmentation_generator_train(img_path, msk_path, BATCH_SIZE):\n",
    "    img_datagen = ImageDataGenerator(\n",
    "        rescale=1./255,\n",
    "        rotation_range=90,\n",
    "        width_shift_range=0.2,\n",
    "        height_shift_range=0.2,\n",
    "        zoom_range=0.3)\n",
    "\n",
    "    img_generator = img_datagen.flow_from_directory(\n",
    "        img_path,\n",
    "        target_size=IMG_SIZE,\n",
    "        class_mode=None,\n",
    "        color_mode='grayscale',\n",
    "        batch_size=BATCH_SIZE,\n",
    "        seed=SEED)\n",
    "    msk_generator = img_datagen.flow_from_directory(\n",
    "        msk_path,\n",
    "        target_size=IMG_SIZE,\n",
    "        class_mode=None,\n",
    "        color_mode='grayscale',\n",
    "        batch_size=BATCH_SIZE,\n",
    "        seed=SEED)\n",
    "\n",
    "    return zip(img_generator, msk_generator)"
   ]
  },
  {
   "cell_type": "code",
   "execution_count": 28,
   "metadata": {
    "id": "fPMK0dmkYk26"
   },
   "outputs": [],
   "source": [
    "# Data agumentation for testing images and mask\n",
    "def create_segmentation_generator_test(img_path, msk_path, BATCH_SIZE):\n",
    "    img_datagen = ImageDataGenerator(rescale=1./255)\n",
    "\n",
    "    img_generator = img_datagen.flow_from_directory(\n",
    "        img_path,\n",
    "        target_size=IMG_SIZE,\n",
    "        class_mode=None,\n",
    "        color_mode='grayscale',\n",
    "        batch_size=BATCH_SIZE,\n",
    "        seed=SEED)\n",
    "    msk_generator = img_datagen.flow_from_directory(\n",
    "        msk_path,\n",
    "        target_size=IMG_SIZE,\n",
    "        class_mode=None,\n",
    "        color_mode='grayscale',\n",
    "        batch_size=BATCH_SIZE,\n",
    "        seed=SEED)\n",
    "\n",
    "    return zip(img_generator, msk_generator)"
   ]
  },
  {
   "cell_type": "code",
   "execution_count": 29,
   "metadata": {
    "id": "skBxE9ehYomM"
   },
   "outputs": [
    {
     "name": "stdout",
     "output_type": "stream",
     "text": [
      "Found 0 images belonging to 0 classes.\n",
      "Found 0 images belonging to 0 classes.\n",
      "Found 0 images belonging to 0 classes.\n",
      "Found 0 images belonging to 0 classes.\n"
     ]
    }
   ],
   "source": [
    "# Call the traing images\n",
    "train_generator = create_segmentation_generator_train(\n",
    "    data_dir_train_image,\n",
    "    data_dir_train_mask,\n",
    "    BATCH_SIZE_TRAIN)\n",
    "\n",
    "# Call the testing images\n",
    "test_generator = create_segmentation_generator_test(\n",
    "    data_dir_test_image,\n",
    "    data_dir_test_mask,\n",
    "    BATCH_SIZE_TEST)"
   ]
  },
  {
   "cell_type": "code",
   "execution_count": null,
   "metadata": {
    "id": "__B-zn5jaMW5"
   },
   "outputs": [],
   "source": [
    "# Display image after agumentation\n",
    "def display(display_list):\n",
    "    plt.figure(figsize=(15,15))\n",
    "\n",
    "    title = ['Input Image', 'True Mask', 'Predicted Mask']\n",
    "\n",
    "    for i in range(len(display_list)):\n",
    "        plt.subplot(1, len(display_list), i+1)\n",
    "        plt.title(title[i])\n",
    "        plt.imshow(tf.keras.preprocessing.image.array_to_img(display_list[i]), cmap='gray')\n",
    "    plt.show()"
   ]
  },
  {
   "cell_type": "code",
   "execution_count": null,
   "metadata": {
    "id": "9C7_UfGfAYTB"
   },
   "outputs": [],
   "source": [
    "# Display image, True mask and Predicted mask from test_generator\n",
    "def show_dataset(datagen, num=1):\n",
    "    for i in range(0,num):\n",
    "        image,mask = next(datagen)\n",
    "        display([image[0], mask[0]])"
   ]
  },
  {
   "cell_type": "code",
   "execution_count": null,
   "metadata": {
    "id": "vPAI6FGwAYOy"
   },
   "outputs": [],
   "source": [
    "show_dataset(train_generator, 2)"
   ]
  },
  {
   "cell_type": "code",
   "execution_count": null,
   "metadata": {
    "id": "UG_QdxH5AnQY"
   },
   "outputs": [],
   "source": []
  },
  {
   "cell_type": "markdown",
   "metadata": {
    "id": "4Ljua7nZSJG3"
   },
   "source": [
    "**Training the dataset**"
   ]
  },
  {
   "cell_type": "code",
   "execution_count": null,
   "metadata": {
    "id": "8RpzPiTlAYMG"
   },
   "outputs": [],
   "source": [
    "# Defining Unet model from scratch\n",
    "def unet(n_levels, initial_features=32, n_blocks=2, kernel_size=3, pooling_size=2, in_channels=1, out_channels=1):\n",
    "    inputs = keras.layers.Input(shape=(IMAGE_HEIGHT, IMAGE_WIDTH, in_channels))\n",
    "    x = inputs\n",
    "\n",
    "    convpars = dict(kernel_size=kernel_size, activation='relu', padding='same', kernel_initializer='he_normal')\n",
    "\n",
    "    #downstream\n",
    "    skips = {}\n",
    "    for level in range(n_levels):\n",
    "        for _ in range(n_blocks):\n",
    "            x = keras.layers.Conv2D(initial_features * 2 ** level, **convpars)(x)\n",
    "            if _ == 0:\n",
    "                x = keras.layers.Dropout(0.25)(x)\n",
    "        if level < n_levels - 1:\n",
    "            skips[level] = x\n",
    "            x = keras.layers.Normalization()(x)\n",
    "            x = keras.layers.MaxPool2D(pooling_size)(x)\n",
    "\n",
    "    # upstream\n",
    "    for level in reversed(range(n_levels-1)):\n",
    "        x = keras.layers.Conv2DTranspose(initial_features * 2 ** level, strides=pooling_size, **convpars)(x)\n",
    "        x = keras.layers.Concatenate()([x, skips[level]])\n",
    "        for _ in range(n_blocks):\n",
    "            x = keras.layers.Normalization()(x)\n",
    "            x = keras.layers.Conv2D(initial_features * 2 ** level, **convpars)(x)\n",
    "\n",
    "    # output\n",
    "    activation = 'sigmoid' if out_channels == 1 else 'softmax'\n",
    "    x = keras.layers.Conv2D(out_channels, kernel_size=1, activation=activation, padding='same')(x)\n",
    "\n",
    "    return keras.Model(inputs=[inputs], outputs=[x], name=f'UNET-L{n_levels}-F{initial_features}')\n",
    "\n",
    "# Defining dice loss for image segmantation\n",
    "def dice_loss(y_true, y_pred):\n",
    "    intersection = K.sum(y_true * y_pred)\n",
    "    union = K.sum(y_true) + K.sum(y_pred)\n",
    "    dice_loss = 1.0 - (2.0 * intersection + K.epsilon()) / (union + K.epsilon())\n",
    "    return dice_loss"
   ]
  },
  {
   "cell_type": "code",
   "execution_count": null,
   "metadata": {
    "id": "GpDEZ9F8AYJD"
   },
   "outputs": [],
   "source": [
    "# define constants\n",
    "EPOCH_STEP_TRAIN = NUM_TRAIN // BATCH_SIZE_TRAIN\n",
    "EPOCH_STEP_TEST = NUM_TEST // BATCH_SIZE_TEST\n",
    "\n",
    "model = unet(4)\n",
    "model.compile(optimizer='adam', loss=dice_loss, metrics=['accuracy'])"
   ]
  },
  {
   "cell_type": "code",
   "execution_count": null,
   "metadata": {
    "id": "aWoOK8tSAYAr"
   },
   "outputs": [],
   "source": [
    "# Summary of overall model\n",
    "model.summary()"
   ]
  },
  {
   "cell_type": "code",
   "execution_count": null,
   "metadata": {
    "id": "q8Ub7xcHAXyx"
   },
   "outputs": [],
   "source": [
    "# Train the model\n",
    "model.fit_generator(\n",
    "    generator=train_generator,\n",
    "    steps_per_epoch=EPOCH_STEP_TRAIN,\n",
    "    validation_data=test_generator,\n",
    "    validation_steps=EPOCH_STEP_TEST,\n",
    "    epochs=NUM_OF_EPOCHS)"
   ]
  },
  {
   "cell_type": "code",
   "execution_count": null,
   "metadata": {
    "id": "5FLbm-IrI4RX"
   },
   "outputs": [],
   "source": [
    "# Save the model as an HDF5 file\n",
    "model.save(f'UNET-ToothSegmentation_{IMAGE_HEIGHT}_{IMAGE_WIDTH}.h5')"
   ]
  },
  {
   "cell_type": "code",
   "execution_count": null,
   "metadata": {
    "id": "RVaOyhN4A53Q"
   },
   "outputs": [],
   "source": [
    "def show_prediction(datagen, num=1):\n",
    "    for i in range(0,num):\n",
    "        image,mask = next(datagen)\n",
    "        pred_mask = model.predict(image)[0] > 0.5\n",
    "        display([image[0], mask[0], pred_mask])"
   ]
  },
  {
   "cell_type": "code",
   "execution_count": null,
   "metadata": {
    "id": "ui7hJaAPBr_n"
   },
   "outputs": [],
   "source": [
    "show_prediction(test_generator, 3)"
   ]
  },
  {
   "cell_type": "code",
   "execution_count": null,
   "metadata": {
    "id": "0VOmz5VeBwq0"
   },
   "outputs": [],
   "source": []
  },
  {
   "cell_type": "code",
   "execution_count": null,
   "metadata": {
    "id": "XphoKTYICia6"
   },
   "outputs": [],
   "source": [
    "# Define constants\n",
    "IMAGE_HEIGHT = 256\n",
    "IMAGE_WIDTH = 256\n",
    "IMG_SIZE = (IMAGE_HEIGHT, IMAGE_WIDTH)\n",
    "\n",
    "# For single slicing prediction\n",
    "sliceIndex = 24"
   ]
  },
  {
   "cell_type": "code",
   "execution_count": null,
   "metadata": {
    "id": "_7ZDv-9YBwni"
   },
   "outputs": [],
   "source": [
    "# Min-max scaling\n",
    "def normalizeImageIntensityRange(img):\n",
    "  min_val = np.min(img)\n",
    "  max_val = np.max(img)\n",
    "  normalized_data = (img - min_val) / (max_val - min_val)\n",
    "  return normalized_data"
   ]
  },
  {
   "cell_type": "code",
   "execution_count": null,
   "metadata": {
    "id": "Pk-ccMKkNoTc"
   },
   "outputs": [],
   "source": [
    "# Pick any image from test to predict the mask\n",
    "test"
   ]
  },
  {
   "cell_type": "code",
   "execution_count": null,
   "metadata": {
    "id": "nT-7ihxdBwku"
   },
   "outputs": [],
   "source": [
    "# Pick any image\n",
    "targetName = 'N002'\n",
    "targetImagePath = f'/content/drive/My Drive/Data/{targetName}/{targetName}.nii.gz'\n",
    "targetMaskPath  = f'/content/drive/My Drive/Data/{targetName}/{targetName}_ROI.nii.gz'\n",
    "\n",
    "imgTargetNii = nib.load(targetImagePath)\n",
    "imgMaskNii = nib.load(targetMaskPath)\n",
    "\n",
    "imgTarget = normalizeImageIntensityRange(imgTargetNii.get_fdata())\n",
    "imgMask = imgMaskNii.get_fdata()"
   ]
  },
  {
   "cell_type": "code",
   "execution_count": null,
   "metadata": {
    "id": "3MM2Y787BwhJ"
   },
   "outputs": [],
   "source": [
    "# Load the model\n",
    "model = load_model(f'UNET-ToothSegmentation_{IMAGE_HEIGHT}_{IMAGE_WIDTH}.h5')"
   ]
  },
  {
   "cell_type": "code",
   "execution_count": null,
   "metadata": {
    "id": "SuXa5wAnJiwz"
   },
   "outputs": [],
   "source": [
    "def scaleImg(img, height, width):\n",
    "    return cv2.resize(img, dsize=(width, height), interpolation=cv2.INTER_LINEAR)"
   ]
  },
  {
   "cell_type": "markdown",
   "metadata": {
    "id": "K1cg0wBXJaIk"
   },
   "source": [
    "**Single Slicing Prediction**"
   ]
  },
  {
   "cell_type": "code",
   "execution_count": null,
   "metadata": {
    "id": "q8btCsm1JS9y"
   },
   "outputs": [],
   "source": [
    "# show input image slice\n",
    "plt.figure(figsize=(15,15))\n",
    "imgSlice = imgTarget[sliceIndex,:,:]\n",
    "imgDimX, imgDimY = imgSlice.shape\n",
    "imgSliceScaled = scaleImg(imgSlice, IMAGE_HEIGHT, IMAGE_WIDTH)\n",
    "plt.subplot(1,2,1)\n",
    "plt.imshow(imgSlice, cmap='gray')\n",
    "plt.subplot(1,2,2)\n",
    "plt.imshow(imgSliceScaled, cmap='gray')\n",
    "plt.show()\n",
    "imgSlice.shape, imgSliceScaled.shape"
   ]
  },
  {
   "cell_type": "code",
   "execution_count": null,
   "metadata": {
    "id": "rH-uZqu2JSdj"
   },
   "outputs": [],
   "source": [
    "# show input mask slice\n",
    "plt.figure(figsize=(15,15))\n",
    "maskSlice = imgMask[sliceIndex,:,:]\n",
    "maskSliceScaled = scaleImg(maskSlice, IMAGE_HEIGHT, IMAGE_WIDTH)\n",
    "plt.subplot(1,2,1)\n",
    "plt.imshow(maskSlice, cmap='gray')\n",
    "plt.subplot(1,2,2)\n",
    "plt.imshow(maskSliceScaled, cmap='gray')\n",
    "plt.show()\n",
    "maskSlice.shape, maskSliceScaled.shape"
   ]
  },
  {
   "cell_type": "code",
   "execution_count": null,
   "metadata": {
    "id": "dIZvr9zQJu6t"
   },
   "outputs": [],
   "source": [
    "# Predict with UNET model\n",
    "plt.figure(figsize=(15,15))\n",
    "imageInput = imgSliceScaled[np.newaxis,:,:,np.newaxis]\n",
    "maskPredict = model.predict(imageInput)[0,:,:,0]\n",
    "maskPredictScaled = scaleImg(maskPredict, imgDimX, imgDimY)\n",
    "plt.subplot(1,2,2)\n",
    "plt.imshow(maskPredict, cmap='gray')\n",
    "plt.subplot(1,2,1)\n",
    "plt.imshow(maskPredictScaled, cmap='gray')\n",
    "plt.show()\n",
    "maskPredictScaled.shape, maskPredict.shape"
   ]
  },
  {
   "cell_type": "markdown",
   "metadata": {
    "id": "_1GtfYncKaG-"
   },
   "source": [
    "**Prediction of full volume**"
   ]
  },
  {
   "cell_type": "code",
   "execution_count": null,
   "metadata": {
    "id": "AWRbUJ6dJ0s1"
   },
   "outputs": [],
   "source": [
    "SLICE_X = True\n",
    "SLICE_Y = True\n",
    "SLICE_Z = False\n",
    "\n",
    "# Slice image in all directions\n",
    "def predictVolume(inImg, toBin=True):\n",
    "    (xMax, yMax, zMax) = inImg.shape\n",
    "\n",
    "    outImgX = np.zeros((xMax, yMax, zMax))\n",
    "    outImgY = np.zeros((xMax, yMax, zMax))\n",
    "    outImgZ = np.zeros((xMax, yMax, zMax))\n",
    "\n",
    "    cnt = 0.0\n",
    "    if SLICE_X:\n",
    "        cnt += 1.0\n",
    "        for i in range(xMax):\n",
    "            img = scaleImg(inImg[i,:,:], IMAGE_HEIGHT, IMAGE_WIDTH)[np.newaxis,:,:,np.newaxis]\n",
    "            tmp = model.predict(img)[0,:,:,0]\n",
    "            outImgX[i,:,:] = scaleImg(tmp, yMax, zMax)\n",
    "    if SLICE_Y:\n",
    "        cnt += 1.0\n",
    "        for i in range(yMax):\n",
    "            img = scaleImg(inImg[:,i,:], IMAGE_HEIGHT, IMAGE_WIDTH)[np.newaxis,:,:,np.newaxis]\n",
    "            tmp = model.predict(img)[0,:,:,0]\n",
    "            outImgY[:,i,:] = scaleImg(tmp, xMax, zMax)\n",
    "    if SLICE_Z:\n",
    "        cnt += 1.0\n",
    "        for i in range(zMax):\n",
    "            img = scaleImg(inImg[:,:,i], IMAGE_HEIGHT, IMAGE_WIDTH)[np.newaxis,:,:,np.newaxis]\n",
    "            tmp = model.predict(img)[0,:,:,0]\n",
    "            outImgZ[:,:,i] = scaleImg(tmp, xMax, yMax)\n",
    "\n",
    "    outImg = (outImgX + outImgY + outImgZ)/cnt\n",
    "    if(toBin):\n",
    "        outImg[outImg>0.5] = 1.0\n",
    "        outImg[outImg<=0.5] = 0.0\n",
    "    return outImg"
   ]
  },
  {
   "cell_type": "code",
   "execution_count": null,
   "metadata": {
    "id": "ZEmUZ-FJLP9Q"
   },
   "outputs": [],
   "source": [
    "predImg = predictVolume(imgTarget)"
   ]
  },
  {
   "cell_type": "code",
   "execution_count": null,
   "metadata": {
    "id": "9Pi4u6QHLYC2"
   },
   "outputs": [],
   "source": [
    "my_widget = NiftiWidget(imgTargetNii)\n",
    "my_widget.nifti_plotter(colormap='gray')"
   ]
  },
  {
   "cell_type": "code",
   "execution_count": null,
   "metadata": {
    "id": "WdetYEn4LXyh"
   },
   "outputs": [],
   "source": [
    "my_widget = NiftiWidget(nib.dataobj_images.DataobjImage(predImg))\n",
    "my_widget.nifti_plotter(colormap='gray')"
   ]
  },
  {
   "cell_type": "code",
   "execution_count": null,
   "metadata": {
    "id": "TQ5XFVpgLXvC"
   },
   "outputs": [],
   "source": [
    "my_widget = NiftiWidget(imgMaskNii)\n",
    "my_widget.nifti_plotter(colormap='gray')"
   ]
  },
  {
   "cell_type": "code",
   "execution_count": null,
   "metadata": {
    "id": "deZ9w9CrMRMs"
   },
   "outputs": [],
   "source": []
  }
 ],
 "metadata": {
  "accelerator": "GPU",
  "colab": {
   "provenance": []
  },
  "kernelspec": {
   "display_name": "Python 3 (ipykernel)",
   "language": "python",
   "name": "python3"
  },
  "language_info": {
   "codemirror_mode": {
    "name": "ipython",
    "version": 3
   },
   "file_extension": ".py",
   "mimetype": "text/x-python",
   "name": "python",
   "nbconvert_exporter": "python",
   "pygments_lexer": "ipython3",
   "version": "3.11.4"
  }
 },
 "nbformat": 4,
 "nbformat_minor": 1
}
